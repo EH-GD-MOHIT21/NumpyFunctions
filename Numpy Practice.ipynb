{
 "cells": [
  {
   "cell_type": "markdown",
   "id": "overhead-verse",
   "metadata": {},
   "source": [
    "# Numpy Tutorials"
   ]
  },
  {
   "cell_type": "code",
   "execution_count": 1,
   "id": "smoking-twelve",
   "metadata": {},
   "outputs": [],
   "source": [
    "import numpy as np"
   ]
  },
  {
   "cell_type": "code",
   "execution_count": 2,
   "id": "grand-annual",
   "metadata": {},
   "outputs": [],
   "source": [
    "myarr = np.array([1,2,3,4,5,6,7,8,9])"
   ]
  },
  {
   "cell_type": "code",
   "execution_count": 3,
   "id": "aware-hometown",
   "metadata": {},
   "outputs": [
    {
     "data": {
      "text/plain": [
       "9"
      ]
     },
     "execution_count": 3,
     "metadata": {},
     "output_type": "execute_result"
    }
   ],
   "source": [
    "myarr.size"
   ]
  },
  {
   "cell_type": "code",
   "execution_count": 4,
   "id": "physical-primary",
   "metadata": {},
   "outputs": [
    {
     "data": {
      "text/plain": [
       "array([1, 2, 3, 4, 5, 6, 7, 8, 9])"
      ]
     },
     "execution_count": 4,
     "metadata": {},
     "output_type": "execute_result"
    }
   ],
   "source": [
    "myarr.T"
   ]
  },
  {
   "cell_type": "code",
   "execution_count": 9,
   "id": "annual-white",
   "metadata": {},
   "outputs": [],
   "source": [
    "myarr.resize((3,3))"
   ]
  },
  {
   "cell_type": "code",
   "execution_count": 10,
   "id": "homeless-testimony",
   "metadata": {},
   "outputs": [
    {
     "data": {
      "text/plain": [
       "array([[1, 2, 3],\n",
       "       [4, 5, 6],\n",
       "       [7, 8, 9]])"
      ]
     },
     "execution_count": 10,
     "metadata": {},
     "output_type": "execute_result"
    }
   ],
   "source": [
    "myarr"
   ]
  },
  {
   "cell_type": "code",
   "execution_count": 7,
   "id": "blessed-hotel",
   "metadata": {},
   "outputs": [],
   "source": [
    "myarr.resize((1,9))"
   ]
  },
  {
   "cell_type": "code",
   "execution_count": 8,
   "id": "painful-broadcast",
   "metadata": {},
   "outputs": [
    {
     "data": {
      "text/plain": [
       "array([[1, 2, 3, 4, 5, 6, 7, 8, 9]])"
      ]
     },
     "execution_count": 8,
     "metadata": {},
     "output_type": "execute_result"
    }
   ],
   "source": [
    "myarr"
   ]
  },
  {
   "cell_type": "code",
   "execution_count": 13,
   "id": "architectural-productivity",
   "metadata": {},
   "outputs": [],
   "source": [
    "a = np.arange(9)"
   ]
  },
  {
   "cell_type": "code",
   "execution_count": 14,
   "id": "continent-cache",
   "metadata": {},
   "outputs": [
    {
     "data": {
      "text/plain": [
       "array([0, 1, 2, 3, 4, 5, 6, 7, 8])"
      ]
     },
     "execution_count": 14,
     "metadata": {},
     "output_type": "execute_result"
    }
   ],
   "source": [
    "a"
   ]
  },
  {
   "cell_type": "code",
   "execution_count": 15,
   "id": "solved-astrology",
   "metadata": {},
   "outputs": [],
   "source": [
    "a.resize(3,3)"
   ]
  },
  {
   "cell_type": "code",
   "execution_count": 16,
   "id": "cross-anatomy",
   "metadata": {},
   "outputs": [
    {
     "data": {
      "text/plain": [
       "array([[0, 1, 2],\n",
       "       [3, 4, 5],\n",
       "       [6, 7, 8]])"
      ]
     },
     "execution_count": 16,
     "metadata": {},
     "output_type": "execute_result"
    }
   ],
   "source": [
    "a"
   ]
  },
  {
   "cell_type": "code",
   "execution_count": 18,
   "id": "bored-tunisia",
   "metadata": {},
   "outputs": [],
   "source": [
    "b = np.identity(3)"
   ]
  },
  {
   "cell_type": "code",
   "execution_count": 19,
   "id": "sorted-herald",
   "metadata": {},
   "outputs": [
    {
     "data": {
      "text/plain": [
       "array([[1., 0., 0.],\n",
       "       [0., 1., 0.],\n",
       "       [0., 0., 1.]])"
      ]
     },
     "execution_count": 19,
     "metadata": {},
     "output_type": "execute_result"
    }
   ],
   "source": [
    "b"
   ]
  },
  {
   "cell_type": "code",
   "execution_count": 22,
   "id": "norwegian-transaction",
   "metadata": {},
   "outputs": [],
   "source": [
    "c = a+b"
   ]
  },
  {
   "cell_type": "code",
   "execution_count": 23,
   "id": "pacific-oriental",
   "metadata": {},
   "outputs": [],
   "source": [
    "d = a-b"
   ]
  },
  {
   "cell_type": "code",
   "execution_count": 24,
   "id": "vanilla-extraction",
   "metadata": {},
   "outputs": [
    {
     "data": {
      "text/plain": [
       "array([[False,  True,  True],\n",
       "       [ True, False,  True],\n",
       "       [ True,  True, False]])"
      ]
     },
     "execution_count": 24,
     "metadata": {},
     "output_type": "execute_result"
    }
   ],
   "source": [
    "c==d"
   ]
  },
  {
   "cell_type": "code",
   "execution_count": 25,
   "id": "thermal-ballet",
   "metadata": {},
   "outputs": [
    {
     "data": {
      "text/plain": [
       "array([[1., 1., 2.],\n",
       "       [3., 5., 5.],\n",
       "       [6., 7., 9.]])"
      ]
     },
     "execution_count": 25,
     "metadata": {},
     "output_type": "execute_result"
    }
   ],
   "source": [
    "c"
   ]
  },
  {
   "cell_type": "code",
   "execution_count": 26,
   "id": "intensive-northwest",
   "metadata": {},
   "outputs": [
    {
     "data": {
      "text/plain": [
       "array([[-1.,  1.,  2.],\n",
       "       [ 3.,  3.,  5.],\n",
       "       [ 6.,  7.,  7.]])"
      ]
     },
     "execution_count": 26,
     "metadata": {},
     "output_type": "execute_result"
    }
   ],
   "source": [
    "d"
   ]
  },
  {
   "cell_type": "code",
   "execution_count": 27,
   "id": "accomplished-bailey",
   "metadata": {},
   "outputs": [
    {
     "data": {
      "text/plain": [
       "False"
      ]
     },
     "execution_count": 27,
     "metadata": {},
     "output_type": "execute_result"
    }
   ],
   "source": [
    "c is d"
   ]
  },
  {
   "cell_type": "code",
   "execution_count": 28,
   "id": "suffering-mainstream",
   "metadata": {},
   "outputs": [
    {
     "data": {
      "text/plain": [
       "True"
      ]
     },
     "execution_count": 28,
     "metadata": {},
     "output_type": "execute_result"
    }
   ],
   "source": [
    "c in d"
   ]
  },
  {
   "cell_type": "code",
   "execution_count": 29,
   "id": "resistant-workshop",
   "metadata": {},
   "outputs": [
    {
     "data": {
      "text/plain": [
       "True"
      ]
     },
     "execution_count": 29,
     "metadata": {},
     "output_type": "execute_result"
    }
   ],
   "source": [
    "d in c"
   ]
  },
  {
   "cell_type": "code",
   "execution_count": 30,
   "id": "liable-courage",
   "metadata": {},
   "outputs": [
    {
     "data": {
      "text/plain": [
       "array([[0., 1., 2.],\n",
       "       [3., 4., 5.],\n",
       "       [6., 7., 8.]])"
      ]
     },
     "execution_count": 30,
     "metadata": {},
     "output_type": "execute_result"
    }
   ],
   "source": [
    "a.dot(b)"
   ]
  },
  {
   "cell_type": "code",
   "execution_count": 31,
   "id": "mexican-removal",
   "metadata": {},
   "outputs": [
    {
     "data": {
      "text/plain": [
       "array([[0, 1, 2],\n",
       "       [3, 4, 5],\n",
       "       [6, 7, 8]])"
      ]
     },
     "execution_count": 31,
     "metadata": {},
     "output_type": "execute_result"
    }
   ],
   "source": [
    "a"
   ]
  },
  {
   "cell_type": "code",
   "execution_count": 32,
   "id": "mental-cooperation",
   "metadata": {},
   "outputs": [
    {
     "data": {
      "text/plain": [
       "array([[1., 0., 0.],\n",
       "       [0., 1., 0.],\n",
       "       [0., 0., 1.]])"
      ]
     },
     "execution_count": 32,
     "metadata": {},
     "output_type": "execute_result"
    }
   ],
   "source": [
    "b"
   ]
  },
  {
   "cell_type": "code",
   "execution_count": 43,
   "id": "corrected-venice",
   "metadata": {},
   "outputs": [],
   "source": [
    "d = np.eye(3,4)"
   ]
  },
  {
   "cell_type": "code",
   "execution_count": 39,
   "id": "welsh-flour",
   "metadata": {},
   "outputs": [
    {
     "data": {
      "text/plain": [
       "array([[1., 0., 0., 0.],\n",
       "       [0., 1., 0., 0.],\n",
       "       [0., 0., 1., 0.]])"
      ]
     },
     "execution_count": 39,
     "metadata": {},
     "output_type": "execute_result"
    }
   ],
   "source": [
    "d"
   ]
  },
  {
   "cell_type": "code",
   "execution_count": 40,
   "id": "fresh-prague",
   "metadata": {},
   "outputs": [],
   "source": [
    "d.resize(1,12)"
   ]
  },
  {
   "cell_type": "code",
   "execution_count": 41,
   "id": "desperate-justice",
   "metadata": {},
   "outputs": [
    {
     "data": {
      "text/plain": [
       "array([[1., 0., 0., 0., 0., 1., 0., 0., 0., 0., 1., 0.]])"
      ]
     },
     "execution_count": 41,
     "metadata": {},
     "output_type": "execute_result"
    }
   ],
   "source": [
    "d"
   ]
  },
  {
   "cell_type": "code",
   "execution_count": 42,
   "id": "occupational-sight",
   "metadata": {},
   "outputs": [
    {
     "data": {
      "text/plain": [
       "<numpy.flatiter at 0x1b4300d5e70>"
      ]
     },
     "execution_count": 42,
     "metadata": {},
     "output_type": "execute_result"
    }
   ],
   "source": [
    "d.flat"
   ]
  },
  {
   "cell_type": "code",
   "execution_count": 44,
   "id": "brown-gravity",
   "metadata": {},
   "outputs": [
    {
     "data": {
      "text/plain": [
       "array([[1., 0., 0., 0.],\n",
       "       [0., 1., 0., 0.],\n",
       "       [0., 0., 1., 0.]])"
      ]
     },
     "execution_count": 44,
     "metadata": {},
     "output_type": "execute_result"
    }
   ],
   "source": [
    "d"
   ]
  },
  {
   "cell_type": "code",
   "execution_count": 47,
   "id": "compressed-adoption",
   "metadata": {},
   "outputs": [],
   "source": [
    "nm = [i for i in d.flat if i>0]\n",
    "# d.flat will give one by one element from array"
   ]
  },
  {
   "cell_type": "code",
   "execution_count": 48,
   "id": "thrown-buyer",
   "metadata": {},
   "outputs": [
    {
     "data": {
      "text/plain": [
       "[1.0, 1.0, 1.0]"
      ]
     },
     "execution_count": 48,
     "metadata": {},
     "output_type": "execute_result"
    }
   ],
   "source": [
    "nm"
   ]
  },
  {
   "cell_type": "code",
   "execution_count": 49,
   "id": "pleasant-warren",
   "metadata": {},
   "outputs": [
    {
     "data": {
      "text/plain": [
       "(3, 3)"
      ]
     },
     "execution_count": 49,
     "metadata": {},
     "output_type": "execute_result"
    }
   ],
   "source": [
    "myarr.shape"
   ]
  },
  {
   "cell_type": "code",
   "execution_count": 50,
   "id": "announced-macro",
   "metadata": {},
   "outputs": [],
   "source": [
    "linear_Space_Arr = np.linspace(1,2,33)"
   ]
  },
  {
   "cell_type": "code",
   "execution_count": 51,
   "id": "needed-knitting",
   "metadata": {},
   "outputs": [
    {
     "data": {
      "text/plain": [
       "array([1.     , 1.03125, 1.0625 , 1.09375, 1.125  , 1.15625, 1.1875 ,\n",
       "       1.21875, 1.25   , 1.28125, 1.3125 , 1.34375, 1.375  , 1.40625,\n",
       "       1.4375 , 1.46875, 1.5    , 1.53125, 1.5625 , 1.59375, 1.625  ,\n",
       "       1.65625, 1.6875 , 1.71875, 1.75   , 1.78125, 1.8125 , 1.84375,\n",
       "       1.875  , 1.90625, 1.9375 , 1.96875, 2.     ])"
      ]
     },
     "execution_count": 51,
     "metadata": {},
     "output_type": "execute_result"
    }
   ],
   "source": [
    "linear_Space_Arr"
   ]
  },
  {
   "cell_type": "code",
   "execution_count": 52,
   "id": "million-bristol",
   "metadata": {},
   "outputs": [],
   "source": [
    "linear_Space_Arr.resize(3,11)"
   ]
  },
  {
   "cell_type": "code",
   "execution_count": 53,
   "id": "broke-reservation",
   "metadata": {},
   "outputs": [
    {
     "data": {
      "text/plain": [
       "array([[1.     , 1.03125, 1.0625 , 1.09375, 1.125  , 1.15625, 1.1875 ,\n",
       "        1.21875, 1.25   , 1.28125, 1.3125 ],\n",
       "       [1.34375, 1.375  , 1.40625, 1.4375 , 1.46875, 1.5    , 1.53125,\n",
       "        1.5625 , 1.59375, 1.625  , 1.65625],\n",
       "       [1.6875 , 1.71875, 1.75   , 1.78125, 1.8125 , 1.84375, 1.875  ,\n",
       "        1.90625, 1.9375 , 1.96875, 2.     ]])"
      ]
     },
     "execution_count": 53,
     "metadata": {},
     "output_type": "execute_result"
    }
   ],
   "source": [
    "linear_Space_Arr"
   ]
  },
  {
   "cell_type": "code",
   "execution_count": 56,
   "id": "opening-funds",
   "metadata": {},
   "outputs": [
    {
     "data": {
      "text/plain": [
       "array([1.     , 1.03125, 1.0625 , 1.09375, 1.125  , 1.15625, 1.1875 ,\n",
       "       1.21875, 1.25   , 1.28125, 1.3125 , 1.34375, 1.375  , 1.40625,\n",
       "       1.4375 , 1.46875, 1.5    , 1.53125, 1.5625 , 1.59375, 1.625  ,\n",
       "       1.65625, 1.6875 , 1.71875, 1.75   , 1.78125, 1.8125 , 1.84375,\n",
       "       1.875  , 1.90625, 1.9375 , 1.96875, 2.     ])"
      ]
     },
     "execution_count": 56,
     "metadata": {},
     "output_type": "execute_result"
    }
   ],
   "source": [
    "linear_Space_Arr.ravel()\n",
    "# return 1D array or flat Array"
   ]
  },
  {
   "cell_type": "markdown",
   "id": "rational-cross",
   "metadata": {},
   "source": [
    "# Axis in numpy"
   ]
  },
  {
   "cell_type": "markdown",
   "id": "talented-agency",
   "metadata": {},
   "source": [
    "AXIS1 ------>\n",
    "AXIS0    |____________|\n",
    "|        |____________|\n",
    "|        |____________|\n",
    "V        |____________|"
   ]
  },
  {
   "cell_type": "code",
   "execution_count": 57,
   "id": "macro-recipe",
   "metadata": {},
   "outputs": [],
   "source": [
    "My_AXIS_LEARN_ARR = np.arange(9)"
   ]
  },
  {
   "cell_type": "code",
   "execution_count": 59,
   "id": "prompt-headset",
   "metadata": {},
   "outputs": [],
   "source": [
    "My_AXIS_LEARN_ARR.resize((3,3))"
   ]
  },
  {
   "cell_type": "code",
   "execution_count": 60,
   "id": "intimate-plenty",
   "metadata": {},
   "outputs": [
    {
     "data": {
      "text/plain": [
       "array([[0, 1, 2],\n",
       "       [3, 4, 5],\n",
       "       [6, 7, 8]])"
      ]
     },
     "execution_count": 60,
     "metadata": {},
     "output_type": "execute_result"
    }
   ],
   "source": [
    "My_AXIS_LEARN_ARR"
   ]
  },
  {
   "cell_type": "code",
   "execution_count": 62,
   "id": "outside-compatibility",
   "metadata": {},
   "outputs": [
    {
     "data": {
      "text/plain": [
       "array([ 9, 12, 15])"
      ]
     },
     "execution_count": 62,
     "metadata": {},
     "output_type": "execute_result"
    }
   ],
   "source": [
    "My_AXIS_LEARN_ARR.sum(axis=0)\n",
    "# 0+3+6\n",
    "# 1+4+7\n",
    "# 2+5+8"
   ]
  },
  {
   "cell_type": "code",
   "execution_count": 63,
   "id": "sublime-collectible",
   "metadata": {},
   "outputs": [
    {
     "data": {
      "text/plain": [
       "array([ 3, 12, 21])"
      ]
     },
     "execution_count": 63,
     "metadata": {},
     "output_type": "execute_result"
    }
   ],
   "source": [
    "My_AXIS_LEARN_ARR.sum(axis=1)\n",
    "# 0+1+2\n",
    "# 3+4+5\n",
    "# 6+7+8"
   ]
  },
  {
   "cell_type": "code",
   "execution_count": 64,
   "id": "present-speech",
   "metadata": {},
   "outputs": [
    {
     "data": {
      "text/plain": [
       "array([[0, 3, 6],\n",
       "       [1, 4, 7],\n",
       "       [2, 5, 8]])"
      ]
     },
     "execution_count": 64,
     "metadata": {},
     "output_type": "execute_result"
    }
   ],
   "source": [
    "My_AXIS_LEARN_ARR.T"
   ]
  },
  {
   "cell_type": "code",
   "execution_count": 65,
   "id": "abandoned-thailand",
   "metadata": {},
   "outputs": [
    {
     "name": "stdout",
     "output_type": "stream",
     "text": [
      "0\n",
      "1\n",
      "2\n",
      "3\n",
      "4\n",
      "5\n",
      "6\n",
      "7\n",
      "8\n"
     ]
    }
   ],
   "source": [
    "for element in My_AXIS_LEARN_ARR.flat:\n",
    "    print(element)"
   ]
  },
  {
   "cell_type": "code",
   "execution_count": 66,
   "id": "herbal-minnesota",
   "metadata": {},
   "outputs": [
    {
     "data": {
      "text/plain": [
       "array([[0, 1, 2],\n",
       "       [3, 4, 5],\n",
       "       [6, 7, 8]])"
      ]
     },
     "execution_count": 66,
     "metadata": {},
     "output_type": "execute_result"
    }
   ],
   "source": [
    "My_AXIS_LEARN_ARR"
   ]
  },
  {
   "cell_type": "code",
   "execution_count": 67,
   "id": "sudden-flesh",
   "metadata": {},
   "outputs": [
    {
     "data": {
      "text/plain": [
       "2"
      ]
     },
     "execution_count": 67,
     "metadata": {},
     "output_type": "execute_result"
    }
   ],
   "source": [
    "My_AXIS_LEARN_ARR.ndim\n",
    "#dimention of array"
   ]
  },
  {
   "cell_type": "code",
   "execution_count": 68,
   "id": "colored-independence",
   "metadata": {},
   "outputs": [
    {
     "data": {
      "text/plain": [
       "9"
      ]
     },
     "execution_count": 68,
     "metadata": {},
     "output_type": "execute_result"
    }
   ],
   "source": [
    "My_AXIS_LEARN_ARR.size\n",
    "#total length of array"
   ]
  },
  {
   "cell_type": "code",
   "execution_count": 69,
   "id": "adapted-virus",
   "metadata": {},
   "outputs": [
    {
     "data": {
      "text/plain": [
       "36"
      ]
     },
     "execution_count": 69,
     "metadata": {},
     "output_type": "execute_result"
    }
   ],
   "source": [
    "My_AXIS_LEARN_ARR.nbytes\n",
    "# total memory used by array"
   ]
  },
  {
   "cell_type": "code",
   "execution_count": 70,
   "id": "detected-implement",
   "metadata": {},
   "outputs": [
    {
     "data": {
      "text/plain": [
       "8"
      ]
     },
     "execution_count": 70,
     "metadata": {},
     "output_type": "execute_result"
    }
   ],
   "source": [
    "My_AXIS_LEARN_ARR.argmax()\n",
    "#return the index of maximum element"
   ]
  },
  {
   "cell_type": "code",
   "execution_count": 71,
   "id": "editorial-clear",
   "metadata": {},
   "outputs": [
    {
     "data": {
      "text/plain": [
       "0"
      ]
     },
     "execution_count": 71,
     "metadata": {},
     "output_type": "execute_result"
    }
   ],
   "source": [
    "My_AXIS_LEARN_ARR.argmin()\n",
    "#return the index of minimum element"
   ]
  },
  {
   "cell_type": "code",
   "execution_count": 73,
   "id": "beginning-visibility",
   "metadata": {},
   "outputs": [],
   "source": [
    "reversed_=My_AXIS_LEARN_ARR.T"
   ]
  },
  {
   "cell_type": "code",
   "execution_count": 75,
   "id": "victorian-british",
   "metadata": {},
   "outputs": [],
   "source": [
    "reversed_[0][0] = 9"
   ]
  },
  {
   "cell_type": "code",
   "execution_count": 76,
   "id": "exclusive-efficiency",
   "metadata": {},
   "outputs": [
    {
     "data": {
      "text/plain": [
       "array([[9, 3, 6],\n",
       "       [1, 4, 7],\n",
       "       [2, 5, 8]])"
      ]
     },
     "execution_count": 76,
     "metadata": {},
     "output_type": "execute_result"
    }
   ],
   "source": [
    "reversed_"
   ]
  },
  {
   "cell_type": "code",
   "execution_count": 77,
   "id": "spatial-equity",
   "metadata": {},
   "outputs": [
    {
     "data": {
      "text/plain": [
       "0"
      ]
     },
     "execution_count": 77,
     "metadata": {},
     "output_type": "execute_result"
    }
   ],
   "source": [
    "reversed_.argmax()\n",
    "#index of maximum element"
   ]
  },
  {
   "cell_type": "code",
   "execution_count": 78,
   "id": "light-label",
   "metadata": {},
   "outputs": [
    {
     "data": {
      "text/plain": [
       "array([[1, 2, 0],\n",
       "       [0, 1, 2],\n",
       "       [0, 1, 2]], dtype=int64)"
      ]
     },
     "execution_count": 78,
     "metadata": {},
     "output_type": "execute_result"
    }
   ],
   "source": [
    "reversed_.argsort()\n",
    "#indexes of element to sort"
   ]
  },
  {
   "cell_type": "code",
   "execution_count": 79,
   "id": "persistent-joining",
   "metadata": {},
   "outputs": [
    {
     "data": {
      "text/plain": [
       "array([[9, 3, 6],\n",
       "       [1, 4, 7],\n",
       "       [2, 5, 8]])"
      ]
     },
     "execution_count": 79,
     "metadata": {},
     "output_type": "execute_result"
    }
   ],
   "source": [
    "reversed_"
   ]
  },
  {
   "cell_type": "code",
   "execution_count": 80,
   "id": "white-damages",
   "metadata": {},
   "outputs": [
    {
     "data": {
      "text/plain": [
       "array([0, 2, 2], dtype=int64)"
      ]
     },
     "execution_count": 80,
     "metadata": {},
     "output_type": "execute_result"
    }
   ],
   "source": [
    "reversed_.argmax(axis=0)"
   ]
  },
  {
   "cell_type": "code",
   "execution_count": 81,
   "id": "unnecessary-optics",
   "metadata": {},
   "outputs": [
    {
     "data": {
      "text/plain": [
       "array([[9],\n",
       "       [3],\n",
       "       [6],\n",
       "       [1],\n",
       "       [4],\n",
       "       [7],\n",
       "       [2],\n",
       "       [5],\n",
       "       [8]])"
      ]
     },
     "execution_count": 81,
     "metadata": {},
     "output_type": "execute_result"
    }
   ],
   "source": [
    "reversed_.reshape((9,1))"
   ]
  },
  {
   "cell_type": "code",
   "execution_count": 82,
   "id": "thirty-mason",
   "metadata": {},
   "outputs": [
    {
     "data": {
      "text/plain": [
       "array([[9, 3, 6],\n",
       "       [1, 4, 7],\n",
       "       [2, 5, 8]])"
      ]
     },
     "execution_count": 82,
     "metadata": {},
     "output_type": "execute_result"
    }
   ],
   "source": [
    "reversed_"
   ]
  },
  {
   "cell_type": "code",
   "execution_count": 83,
   "id": "resistant-handling",
   "metadata": {},
   "outputs": [],
   "source": [
    "reversed_.resize((9,1))"
   ]
  },
  {
   "cell_type": "code",
   "execution_count": 84,
   "id": "usual-graph",
   "metadata": {},
   "outputs": [
    {
     "data": {
      "text/plain": [
       "array([[9],\n",
       "       [1],\n",
       "       [2],\n",
       "       [3],\n",
       "       [4],\n",
       "       [5],\n",
       "       [6],\n",
       "       [7],\n",
       "       [8]])"
      ]
     },
     "execution_count": 84,
     "metadata": {},
     "output_type": "execute_result"
    }
   ],
   "source": [
    "reversed_"
   ]
  },
  {
   "cell_type": "code",
   "execution_count": 91,
   "id": "funky-marina",
   "metadata": {},
   "outputs": [
    {
     "data": {
      "text/plain": [
       "array([[3.        ],\n",
       "       [1.        ],\n",
       "       [1.41421356],\n",
       "       [1.73205081],\n",
       "       [2.        ],\n",
       "       [2.23606798],\n",
       "       [2.44948974],\n",
       "       [2.64575131],\n",
       "       [2.82842712]])"
      ]
     },
     "execution_count": 91,
     "metadata": {},
     "output_type": "execute_result"
    }
   ],
   "source": [
    "np.sqrt(reversed_)"
   ]
  },
  {
   "cell_type": "code",
   "execution_count": 93,
   "id": "centered-singapore",
   "metadata": {},
   "outputs": [
    {
     "data": {
      "text/plain": [
       "9"
      ]
     },
     "execution_count": 93,
     "metadata": {},
     "output_type": "execute_result"
    }
   ],
   "source": [
    "reversed_.max()\n",
    "#return max element"
   ]
  },
  {
   "cell_type": "code",
   "execution_count": 94,
   "id": "comic-sitting",
   "metadata": {},
   "outputs": [
    {
     "data": {
      "text/plain": [
       "(array([0, 5, 6, 7, 8], dtype=int64), array([0, 0, 0, 0, 0], dtype=int64))"
      ]
     },
     "execution_count": 94,
     "metadata": {},
     "output_type": "execute_result"
    }
   ],
   "source": [
    "np.where(reversed_>4)\n",
    "#index of elm which satisfy the condition"
   ]
  },
  {
   "cell_type": "code",
   "execution_count": 95,
   "id": "knowing-powell",
   "metadata": {},
   "outputs": [
    {
     "data": {
      "text/plain": [
       "array([[9],\n",
       "       [1],\n",
       "       [2],\n",
       "       [3],\n",
       "       [4],\n",
       "       [5],\n",
       "       [6],\n",
       "       [7],\n",
       "       [8]])"
      ]
     },
     "execution_count": 95,
     "metadata": {},
     "output_type": "execute_result"
    }
   ],
   "source": [
    "reversed_"
   ]
  },
  {
   "cell_type": "code",
   "execution_count": 96,
   "id": "comfortable-consent",
   "metadata": {},
   "outputs": [
    {
     "data": {
      "text/plain": [
       "9"
      ]
     },
     "execution_count": 96,
     "metadata": {},
     "output_type": "execute_result"
    }
   ],
   "source": [
    "np.count_nonzero(reversed_)"
   ]
  },
  {
   "cell_type": "code",
   "execution_count": 97,
   "id": "amateur-charger",
   "metadata": {},
   "outputs": [
    {
     "data": {
      "text/plain": [
       "(array([0, 1, 2, 3, 4, 5, 6, 7, 8], dtype=int64),\n",
       " array([0, 0, 0, 0, 0, 0, 0, 0, 0], dtype=int64))"
      ]
     },
     "execution_count": 97,
     "metadata": {},
     "output_type": "execute_result"
    }
   ],
   "source": [
    "np.nonzero(reversed_)\n",
    "#return index of elm which are non zeros"
   ]
  },
  {
   "cell_type": "code",
   "execution_count": 98,
   "id": "perceived-warren",
   "metadata": {},
   "outputs": [
    {
     "data": {
      "text/plain": [
       "array([[inf, inf, inf],\n",
       "       [inf, inf, inf]])"
      ]
     },
     "execution_count": 98,
     "metadata": {},
     "output_type": "execute_result"
    }
   ],
   "source": [
    "np.empty( (2,3) )\n",
    "#uninialized array"
   ]
  },
  {
   "cell_type": "code",
   "execution_count": 101,
   "id": "buried-publication",
   "metadata": {},
   "outputs": [],
   "source": [
    "# random elem array\n",
    "rg = np.random.default_rng(1)\n",
    "a = rg.random((2,3))"
   ]
  },
  {
   "cell_type": "code",
   "execution_count": 102,
   "id": "suffering-performance",
   "metadata": {},
   "outputs": [
    {
     "data": {
      "text/plain": [
       "array([[0.51182162, 0.9504637 , 0.14415961],\n",
       "       [0.94864945, 0.31183145, 0.42332645]])"
      ]
     },
     "execution_count": 102,
     "metadata": {},
     "output_type": "execute_result"
    }
   ],
   "source": [
    "a"
   ]
  },
  {
   "cell_type": "markdown",
   "id": "gothic-values",
   "metadata": {},
   "source": [
    "# slicing in numpy"
   ]
  },
  {
   "cell_type": "code",
   "execution_count": 103,
   "id": "proved-analysis",
   "metadata": {},
   "outputs": [
    {
     "data": {
      "text/plain": [
       "array([[0.94864945, 0.31183145, 0.42332645]])"
      ]
     },
     "execution_count": 103,
     "metadata": {},
     "output_type": "execute_result"
    }
   ],
   "source": [
    "a[1:3]"
   ]
  },
  {
   "cell_type": "code",
   "execution_count": 104,
   "id": "acute-dispute",
   "metadata": {},
   "outputs": [
    {
     "data": {
      "text/plain": [
       "array([[0.51182162, 0.9504637 , 0.14415961],\n",
       "       [0.94864945, 0.31183145, 0.42332645]])"
      ]
     },
     "execution_count": 104,
     "metadata": {},
     "output_type": "execute_result"
    }
   ],
   "source": [
    "a[0:2]"
   ]
  },
  {
   "cell_type": "code",
   "execution_count": 105,
   "id": "informational-zimbabwe",
   "metadata": {},
   "outputs": [
    {
     "data": {
      "text/plain": [
       "array([0.94864945, 0.31183145, 0.42332645])"
      ]
     },
     "execution_count": 105,
     "metadata": {},
     "output_type": "execute_result"
    }
   ],
   "source": [
    "# negative indices\n",
    "a[-1]"
   ]
  },
  {
   "cell_type": "code",
   "execution_count": 106,
   "id": "pediatric-committee",
   "metadata": {},
   "outputs": [
    {
     "data": {
      "text/plain": [
       "array([[1., 1., 1.],\n",
       "       [1., 1., 1.]])"
      ]
     },
     "execution_count": 106,
     "metadata": {},
     "output_type": "execute_result"
    }
   ],
   "source": [
    "np.ceil(a)"
   ]
  },
  {
   "cell_type": "code",
   "execution_count": 107,
   "id": "bronze-apple",
   "metadata": {},
   "outputs": [
    {
     "data": {
      "text/plain": [
       "array([[0., 0., 0.],\n",
       "       [0., 0., 0.]])"
      ]
     },
     "execution_count": 107,
     "metadata": {},
     "output_type": "execute_result"
    }
   ],
   "source": [
    "np.floor(a)"
   ]
  },
  {
   "cell_type": "markdown",
   "id": "italic-survivor",
   "metadata": {},
   "source": [
    "# Trigonometry Functions "
   ]
  },
  {
   "cell_type": "code",
   "execution_count": 111,
   "id": "familiar-float",
   "metadata": {},
   "outputs": [],
   "source": [
    "data = np.sin(np.arange(25)).reshape(5,5)"
   ]
  },
  {
   "cell_type": "code",
   "execution_count": 112,
   "id": "departmental-cosmetic",
   "metadata": {},
   "outputs": [
    {
     "data": {
      "text/plain": [
       "array([[ 0.        ,  0.84147098,  0.90929743,  0.14112001, -0.7568025 ],\n",
       "       [-0.95892427, -0.2794155 ,  0.6569866 ,  0.98935825,  0.41211849],\n",
       "       [-0.54402111, -0.99999021, -0.53657292,  0.42016704,  0.99060736],\n",
       "       [ 0.65028784, -0.28790332, -0.96139749, -0.75098725,  0.14987721],\n",
       "       [ 0.91294525,  0.83665564, -0.00885131, -0.8462204 , -0.90557836]])"
      ]
     },
     "execution_count": 112,
     "metadata": {},
     "output_type": "execute_result"
    }
   ],
   "source": [
    "data"
   ]
  },
  {
   "cell_type": "markdown",
   "id": "studied-midnight",
   "metadata": {},
   "source": [
    "# Matrix Functionality"
   ]
  },
  {
   "cell_type": "code",
   "execution_count": 113,
   "id": "veterinary-franklin",
   "metadata": {},
   "outputs": [
    {
     "data": {
      "text/plain": [
       "array([[-5.82081690e+15, -4.62749979e+15,  1.85678080e+15,\n",
       "        -9.73322105e+15,  3.17883396e+15],\n",
       "       [-6.68535453e+15,  8.17600074e+15, -4.10852730e+15,\n",
       "         1.51056430e+15,  5.06354394e+15],\n",
       "       [ 8.60380601e+15, -6.58448338e+15,  6.56774946e+15,\n",
       "         0.00000000e+00, -3.00239975e+15],\n",
       "       [-1.34112647e+16,  1.58217353e+15, -4.73816211e+15,\n",
       "        -9.00719925e+15,  5.25419957e+15],\n",
       "       [ 4.03393249e+14,  1.47447973e+15,  2.43944980e+15,\n",
       "         0.00000000e+00,  3.00239975e+15]])"
      ]
     },
     "execution_count": 113,
     "metadata": {},
     "output_type": "execute_result"
    }
   ],
   "source": [
    "np.linalg.inv(data)"
   ]
  },
  {
   "cell_type": "code",
   "execution_count": 114,
   "id": "positive-coaching",
   "metadata": {},
   "outputs": [
    {
     "data": {
      "text/plain": [
       "-2.4725540249776605"
      ]
     },
     "execution_count": 114,
     "metadata": {},
     "output_type": "execute_result"
    }
   ],
   "source": [
    " np.trace(data)"
   ]
  },
  {
   "cell_type": "code",
   "execution_count": 115,
   "id": "subsequent-edmonton",
   "metadata": {},
   "outputs": [
    {
     "data": {
      "text/plain": [
       "array([[ 0.        , -0.95892427, -0.54402111,  0.65028784,  0.91294525],\n",
       "       [ 0.84147098, -0.2794155 , -0.99999021, -0.28790332,  0.83665564],\n",
       "       [ 0.90929743,  0.6569866 , -0.53657292, -0.96139749, -0.00885131],\n",
       "       [ 0.14112001,  0.98935825,  0.42016704, -0.75098725, -0.8462204 ],\n",
       "       [-0.7568025 ,  0.41211849,  0.99060736,  0.14987721, -0.90557836]])"
      ]
     },
     "execution_count": 115,
     "metadata": {},
     "output_type": "execute_result"
    }
   ],
   "source": [
    "data.T"
   ]
  },
  {
   "cell_type": "code",
   "execution_count": 125,
   "id": "physical-boating",
   "metadata": {},
   "outputs": [
    {
     "name": "stdout",
     "output_type": "stream",
     "text": [
      "[[0]\n",
      " [1]\n",
      " [2]\n",
      " [3]\n",
      " [4]]\n"
     ]
    }
   ],
   "source": [
    "y = np.arange(0,5).reshape((5,1))\n",
    "print(y)"
   ]
  },
  {
   "cell_type": "code",
   "execution_count": 126,
   "id": "specific-declaration",
   "metadata": {},
   "outputs": [
    {
     "data": {
      "text/plain": [
       "array([[-1.73982655e+16],\n",
       "       [ 2.47448148e+16],\n",
       "       [-5.45858347e+15],\n",
       "       [-1.38989502e+16],\n",
       "       [ 1.83629783e+16]])"
      ]
     },
     "execution_count": 126,
     "metadata": {},
     "output_type": "execute_result"
    }
   ],
   "source": [
    "np.linalg.solve(data, y)"
   ]
  },
  {
   "cell_type": "code",
   "execution_count": null,
   "id": "polished-nomination",
   "metadata": {},
   "outputs": [],
   "source": []
  }
 ],
 "metadata": {
  "kernelspec": {
   "display_name": "Python 3",
   "language": "python",
   "name": "python3"
  },
  "language_info": {
   "codemirror_mode": {
    "name": "ipython",
    "version": 3
   },
   "file_extension": ".py",
   "mimetype": "text/x-python",
   "name": "python",
   "nbconvert_exporter": "python",
   "pygments_lexer": "ipython3",
   "version": "3.8.2"
  }
 },
 "nbformat": 4,
 "nbformat_minor": 5
}
